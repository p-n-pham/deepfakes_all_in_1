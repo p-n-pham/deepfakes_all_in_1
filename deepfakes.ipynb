{
 "cells": [
  {
   "cell_type": "code",
   "execution_count": null,
   "metadata": {},
   "outputs": [],
   "source": [
    "# text to speech\n",
    "!python deepfakes.py tts-bark"
   ]
  },
  {
   "cell_type": "code",
   "execution_count": null,
   "metadata": {},
   "outputs": [],
   "source": [
    "# voice conversion\n",
    "!python deepfakes.py vc-infer\n",
    "    # --input-path /home/k54728/working/deepfakes/data/7_bark_de/bark_out_4.wav \\\n",
    "    # --model-path /home/k54728/working/deepfakes/data/5_voice_conversion_train/saved_model/clean_voice_1_3_15min/G_5000.pth \\\n",
    "    # --config-path /home/k54728/working/deepfakes/data/5_voice_conversion_train/configs/config.json"
   ]
  },
  {
   "cell_type": "code",
   "execution_count": null,
   "metadata": {},
   "outputs": [],
   "source": [
    "# lip-sync\n",
    "!python deepfakes.py lip-sync \n",
    "    # --audio-path /home/k54728/working/deepfakes_2/data/3_voice_conversion_audio/Untitled Project.wav \\\n",
    "    # --video-path /home/k54728/working/deepfakes/data/1_input/video/out00_cut.mp4"
   ]
  },
  {
   "cell_type": "markdown",
   "metadata": {},
   "source": [
    "#### Voice conversion training"
   ]
  },
  {
   "cell_type": "code",
   "execution_count": null,
   "metadata": {},
   "outputs": [],
   "source": [
    "# voice conversion pre-processing\n",
    "!python deepfakes.py vc-pre-processing\n"
   ]
  },
  {
   "cell_type": "code",
   "execution_count": null,
   "metadata": {},
   "outputs": [],
   "source": [
    "# voice conversion train\n",
    "!python deepfakes.py vc-train --max-epoch 5000"
   ]
  }
 ],
 "metadata": {
  "kernelspec": {
   "display_name": "deepfake-env",
   "language": "python",
   "name": "python3"
  },
  "language_info": {
   "codemirror_mode": {
    "name": "ipython",
    "version": 3
   },
   "file_extension": ".py",
   "mimetype": "text/x-python",
   "name": "python",
   "nbconvert_exporter": "python",
   "pygments_lexer": "ipython3",
   "version": "3.1.0"
  }
 },
 "nbformat": 4,
 "nbformat_minor": 2
}
